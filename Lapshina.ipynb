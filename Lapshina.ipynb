{
  "nbformat": 4,
  "nbformat_minor": 0,
  "metadata": {
    "colab": {
      "provenance": [],
      "include_colab_link": true
    },
    "kernelspec": {
      "name": "python3",
      "display_name": "Python 3"
    },
    "language_info": {
      "name": "python"
    }
  },
  "cells": [
    {
      "cell_type": "markdown",
      "metadata": {
        "id": "view-in-github",
        "colab_type": "text"
      },
      "source": [
        "<a href=\"https://colab.research.google.com/github/lapshinaaa/C-labs/blob/master/Lapshina.ipynb\" target=\"_parent\"><img src=\"https://colab.research.google.com/assets/colab-badge.svg\" alt=\"Open In Colab\"/></a>"
      ]
    },
    {
      "cell_type": "code",
      "metadata": {
        "colab": {
          "base_uri": "https://localhost:8080/"
        },
        "id": "Itr1u9H2-L7V",
        "outputId": "e0119b2c-443e-41f8-8ff5-a9b2dd237916"
      },
      "source": [
        "#task2\n",
        "f = open(\"/content/gdrive/MyDrive/Colab Notebooks/word_count.txt\", 'r')\n",
        "count = 0\n",
        "for line in f.readlines():\n",
        "  text = str(line)\n",
        "  count = count + len(text.split())\n",
        "print(f'There are {count} words in the text given')\n"
      ],
      "execution_count": null,
      "outputs": [
        {
          "output_type": "stream",
          "name": "stdout",
          "text": [
            "There are 25 words in the text given\n"
          ]
        }
      ]
    },
    {
      "cell_type": "code",
      "metadata": {
        "id": "PPqA5EHfUZb9"
      },
      "source": [
        "#task3\n",
        "f = open(\"/content/gdrive/MyDrive/Colab Notebooks/last_names.txt\", 'r')\n",
        "w = open(\"/content/gdrive/MyDrive/Colab Notebooks/last_ready.txt\", 'w')\n",
        "list = []\n",
        "for x in f:\n",
        "  x = x.split()\n",
        "  x = x[::-1]\n",
        "  list.append(x)\n",
        "list.sort()\n",
        "for i in list:\n",
        "  print(i,\" \", file = w)\n",
        "w.close()\n"
      ],
      "execution_count": null,
      "outputs": []
    },
    {
      "cell_type": "code",
      "metadata": {
        "id": "WomT7bcmDHul"
      },
      "source": [
        "#task1 11/8\n",
        "import pandas as pd"
      ],
      "execution_count": null,
      "outputs": []
    },
    {
      "cell_type": "code",
      "metadata": {
        "id": "KDCkzaSPD4rp",
        "colab": {
          "base_uri": "https://localhost:8080/"
        },
        "outputId": "261e48a2-1203-40d4-f093-75d7af3e5de3"
      },
      "source": [
        "#task 1 11/8/2021 pandas\n",
        "df = pd.DataFrame([['Иванов И.А.',2000,'БИ',8.0, 'Нижний Новгород', 'М'],['Петров А.А.',2001,'БИ',7.0, 'Пермь', 'М'],['Кузнецов И.А.',2000,'БИ',9.0, 'Москва', 'М']],columns=list('ABCDEF'))\n",
        "print(df)\n",
        "\n",
        "\n",
        "df1 = pd.DataFrame([['Сидорова И.А.',2000,'БИ',6.0, 'Самара', 'Ж'],['Мухоров В.А.',2001,'БИ',5.0, 'Норильск', 'М'], ['Баранникова П.П.',2003,'БИ',9.0, 'Москва', 'Ж' ],['Норышева И.Н.',2000,'БИ',7.0, 'Санкт-Петербург', 'Ж'],['Пырышин И.А.',2000,'БИ',8.5, 'Екатеринбург', 'М']], columns=list('ABCDEF'))\n",
        "df = df.append(df1, ignore_index=True)\n",
        "print(df)\n",
        "\n",
        "\n",
        "df.to_csv(\"/content/gdrive/MyDrive/Colab Notebooks/work.csv\", sep =',', header=True)\n",
        "\n",
        "df = df [(df.D.astype(float) >= 5.0) & (df.B.astype(int) == 2001)]\n",
        "print(df)\n",
        "\n",
        "df.to_csv(\"/content/gdrive/MyDrive/Colab Notebooks/work2.csv\", sep =',', header=True)\n",
        "\n"
      ],
      "execution_count": null,
      "outputs": [
        {
          "output_type": "stream",
          "name": "stdout",
          "text": [
            "               A     B   C    D                E  F\n",
            "0    Иванов И.А.  2000  БИ  8.0  Нижний Новгород  М\n",
            "1    Петров А.А.  2001  БИ  7.0            Пермь  М\n",
            "2  Кузнецов И.А.  2000  БИ  9.0           Москва  М\n",
            "                  A     B   C    D                E  F\n",
            "0       Иванов И.А.  2000  БИ  8.0  Нижний Новгород  М\n",
            "1       Петров А.А.  2001  БИ  7.0            Пермь  М\n",
            "2     Кузнецов И.А.  2000  БИ  9.0           Москва  М\n",
            "3     Сидорова И.А.  2000  БИ  6.0           Самара  Ж\n",
            "4      Мухоров В.А.  2001  БИ  5.0         Норильск  М\n",
            "5  Баранникова П.П.  2003  БИ  9.0           Москва  Ж\n",
            "6     Норышева И.Н.  2000  БИ  7.0  Санкт-Петербург  Ж\n",
            "7      Пырышин И.А.  2000  БИ  8.5     Екатеринбург  М\n",
            "              A     B   C    D         E  F\n",
            "1   Петров А.А.  2001  БИ  7.0     Пермь  М\n",
            "4  Мухоров В.А.  2001  БИ  5.0  Норильск  М\n"
          ]
        }
      ]
    },
    {
      "cell_type": "code",
      "metadata": {
        "colab": {
          "base_uri": "https://localhost:8080/"
        },
        "id": "hzu7p4IYTBlu",
        "outputId": "ea17611c-9488-44cf-f183-0ae1ec292742"
      },
      "source": [
        "#task2 11/8/2021\n",
        "\n",
        "df = pd.read_csv(r\"/content/gdrive/MyDrive/Colab Notebooks/time_series_covid19_deaths_global.csv\", header=0, sep =\",\")\n",
        "df.rename(columns={'9/8/21':'time'}, inplace=True)\n",
        "\n",
        "df2 = df.loc[ : , ['Country/Region', 'time']]\n",
        "\n",
        "df = df2 [(df.time.astype(int) >= 200000)]\n",
        "\n",
        "df.rename(columns={'time' : '9/8/21'}, inplace=True)\n",
        "\n",
        "print(df)\n"
      ],
      "execution_count": null,
      "outputs": [
        {
          "output_type": "stream",
          "name": "stdout",
          "text": [
            "    Country/Region  9/8/21\n",
            "30          Brazil  584421\n",
            "147          India  441749\n",
            "183         Mexico  265420\n",
            "254             US  652657\n"
          ]
        },
        {
          "output_type": "stream",
          "name": "stderr",
          "text": [
            "/usr/local/lib/python3.7/dist-packages/pandas/core/frame.py:4308: SettingWithCopyWarning: \n",
            "A value is trying to be set on a copy of a slice from a DataFrame\n",
            "\n",
            "See the caveats in the documentation: https://pandas.pydata.org/pandas-docs/stable/user_guide/indexing.html#returning-a-view-versus-a-copy\n",
            "  errors=errors,\n"
          ]
        }
      ]
    },
    {
      "cell_type": "code",
      "metadata": {
        "colab": {
          "base_uri": "https://localhost:8080/"
        },
        "id": "zHKTZUc5WTL_",
        "outputId": "23195b22-98ed-40bd-e7e2-2c2451774bfd"
      },
      "source": [
        "def sum(num):\n",
        "  sum_dig = 0\n",
        "  for i in str(num):\n",
        "    sum_dig += int(i)\n",
        "  return sum_dig\n",
        "\n",
        "print(sum(800))"
      ],
      "execution_count": null,
      "outputs": [
        {
          "output_type": "stream",
          "name": "stdout",
          "text": [
            "8\n"
          ]
        }
      ]
    },
    {
      "cell_type": "code",
      "metadata": {
        "colab": {
          "base_uri": "https://localhost:8080/"
        },
        "id": "-biU430KJDTi",
        "outputId": "2b1678b4-7113-4f02-a146-938f3de078ea"
      },
      "source": [
        "from google.colab import drive\n",
        "drive.mount('/content/gdrive/')"
      ],
      "execution_count": null,
      "outputs": [
        {
          "output_type": "stream",
          "name": "stdout",
          "text": [
            "Drive already mounted at /content/gdrive/; to attempt to forcibly remount, call drive.mount(\"/content/gdrive/\", force_remount=True).\n"
          ]
        }
      ]
    },
    {
      "cell_type": "code",
      "metadata": {
        "colab": {
          "base_uri": "https://localhost:8080/"
        },
        "id": "PabZvdCsJNG1",
        "outputId": "1636b092-4099-4db9-aee1-0f55d63ec5a8"
      },
      "source": [
        "#task1 11/15/21\n",
        "\n",
        "import os\n",
        "import shutil\n",
        "path = \"/content/gdrive/MyDrive/Colab Notebooks/Audio_Speech_Actors\"\n",
        "print(os.listdir(path))\n",
        "\n",
        "directory1 = \"neutral\"\n",
        "directory2 = \"calm\"\n",
        "directory3 = \"happy\"\n",
        "directory4 = \"sad\"\n",
        "directory5 = \"angry\"\n",
        "directory6 = \"fearful\"\n",
        "directory7 = \"disgust\"\n",
        "directory8 = \"surprise\"\n",
        "\n",
        "path_1 = os.path.join(path, directory1)\n",
        "##os.mkdir(path_1)\n",
        "\n",
        "path_2 = os.path.join(path, directory2)\n",
        "##os.mkdir(path_2)\n",
        "\n",
        "path_3 = os.path.join(path, directory3)\n",
        "##os.mkdir(path_3)\n",
        "\n",
        "path_4 = os.path.join(path, directory4)\n",
        "##os.mkdir(path_4)\n",
        "\n",
        "path_5 = os.path.join(path, directory5)\n",
        "##os.mkdir(path_5)\n",
        "\n",
        "path_6 = os.path.join(path, directory6)\n",
        "##os.mkdir(path_6)\n",
        "\n",
        "path_7 = os.path.join(path, directory7)\n",
        "##os.mkdir(path_7)\n",
        "\n",
        "path_8 = os.path.join(path, directory8)\n",
        "##os.mkdir(path_8)\n",
        "\n",
        "print(os.listdir(path))\n",
        "\n",
        "dirs = os.walk('/content/gdrive/MyDrive/Colab Notebooks/Audio_Speech_Actors/Actor_01')\n",
        "for path_from_top, subdirs, files in dirs:\n",
        "  for file in files:\n",
        "    if file[6:8] == '01':\n",
        "        shutil.move('/content/gdrive/MyDrive/Colab Notebooks/Audio_Speech_Actors/Actor_01/' + file, '/content/gdrive/MyDrive/Colab Notebooks/Audio_Speech_Actors/neutral')\n",
        "    elif file[6:8] == '02':\n",
        "        shutil.move('/content/gdrive/MyDrive/Colab Notebooks/Audio_Speech_Actors/Actor_01/' + file, '/content/gdrive/MyDrive/Colab Notebooks/Audio_Speech_Actors/calm')\n",
        "    elif file[6:8] == '03':\n",
        "        shutil.move('/content/gdrive/MyDrive/Colab Notebooks/Audio_Speech_Actors/Actor_01/' + file, '/content/gdrive/MyDrive/Colab Notebooks/Audio_Speech_Actors/happy')\n",
        "    elif file[6:8] == '04':\n",
        "        shutil.move('/content/gdrive/MyDrive/Colab Notebooks/Audio_Speech_Actors/Actor_01/' + file, '/content/gdrive/MyDrive/Colab Notebooks/Audio_Speech_Actors/sad')\n",
        "    elif file[6:8] == '05':\n",
        "        shutil.move('/content/gdrive/MyDrive/Colab Notebooks/Audio_Speech_Actors/Actor_01/' + file, '/content/gdrive/MyDrive/Colab Notebooks/Audio_Speech_Actors/angry')\n",
        "    elif file[6:8] == '06':\n",
        "        shutil.move('/content/gdrive/MyDrive/Colab Notebooks/Audio_Speech_Actors/Actor_01/' + file, '/content/gdrive/MyDrive/Colab Notebooks/Audio_Speech_Actors/fearful')\n",
        "    elif file[6:8] == '07':\n",
        "        shutil.move('/content/gdrive/MyDrive/Colab Notebooks/Audio_Speech_Actors/Actor_01/' + file, '/content/gdrive/MyDrive/Colab Notebooks/Audio_Speech_Actors/disgust')\n",
        "    elif file[6:8] == '08':\n",
        "        shutil.move('/content/gdrive/MyDrive/Colab Notebooks/Audio_Speech_Actors/Actor_01/' + file, '/content/gdrive/MyDrive/Colab Notebooks/Audio_Speech_Actors/surprise')\n",
        "\n",
        "\n",
        "\n",
        "dirs = os.walk('/content/gdrive/MyDrive/Colab Notebooks/Audio_Speech_Actors/Actor_02')\n",
        "for path_from_top, subdirs, files1 in dirs:\n",
        "  for file1 in files1:\n",
        "    if file1[6:8] == '01':\n",
        "        shutil.move('/content/gdrive/MyDrive/Colab Notebooks/Audio_Speech_Actors/Actor_02/' + file1, '/content/gdrive/MyDrive/Colab Notebooks/Audio_Speech_Actors/neutral')\n",
        "    elif file1[6:8] == '02':\n",
        "        shutil.move('/content/gdrive/MyDrive/Colab Notebooks/Audio_Speech_Actors/Actor_02/' + file1, '/content/gdrive/MyDrive/Colab Notebooks/Audio_Speech_Actors/calm')\n",
        "    elif file1[6:8] == '03':\n",
        "        shutil.move('/content/gdrive/MyDrive/Colab Notebooks/Audio_Speech_Actors/Actor_02/' + file1, '/content/gdrive/MyDrive/Colab Notebooks/Audio_Speech_Actors/happy')\n",
        "    elif file1[6:8] == '04':\n",
        "        shutil.move('/content/gdrive/MyDrive/Colab Notebooks/Audio_Speech_Actors/Actor_02/' + file1, '/content/gdrive/MyDrive/Colab Notebooks/Audio_Speech_Actors/sad')\n",
        "    elif file1[6:8] == '05':\n",
        "        shutil.move('/content/gdrive/MyDrive/Colab Notebooks/Audio_Speech_Actors/Actor_02/' + file1, '/content/gdrive/MyDrive/Colab Notebooks/Audio_Speech_Actors/angry')\n",
        "    elif file1[6:8] == '06':\n",
        "        shutil.move('/content/gdrive/MyDrive/Colab Notebooks/Audio_Speech_Actors/Actor_02/' + file1, '/content/gdrive/MyDrive/Colab Notebooks/Audio_Speech_Actors/fearful')\n",
        "    elif file1[6:8] == '07':\n",
        "        shutil.move('/content/gdrive/MyDrive/Colab Notebooks/Audio_Speech_Actors/Actor_02/' + file1, '/content/gdrive/MyDrive/Colab Notebooks/Audio_Speech_Actors/disgust')\n",
        "    elif file1[6:8] == '08':\n",
        "        shutil.move('/content/gdrive/MyDrive/Colab Notebooks/Audio_Speech_Actors/Actor_02/' + file1, '/content/gdrive/MyDrive/Colab Notebooks/Audio_Speech_Actors/surprise')\n",
        "\n",
        "\n",
        "dirs = os.walk('/content/gdrive/MyDrive/Colab Notebooks/Audio_Speech_Actors/Actor_03')\n",
        "for path_from_top, subdirs, files2 in dirs:\n",
        "  for file2 in files2:\n",
        "    if file2[6:8] == '01':\n",
        "        shutil.move('/content/gdrive/MyDrive/Colab Notebooks/Audio_Speech_Actors/Actor_03/' + file2, '/content/gdrive/MyDrive/Colab Notebooks/Audio_Speech_Actors/neutral')\n",
        "    elif file2[6:8] == '02':\n",
        "        shutil.move('/content/gdrive/MyDrive/Colab Notebooks/Audio_Speech_Actors/Actor_03/' + file2, '/content/gdrive/MyDrive/Colab Notebooks/Audio_Speech_Actors/calm')\n",
        "    elif file2[6:8] == '03':\n",
        "        shutil.move('/content/gdrive/MyDrive/Colab Notebooks/Audio_Speech_Actors/Actor_03/' + file2, '/content/gdrive/MyDrive/Colab Notebooks/Audio_Speech_Actors/happy')\n",
        "    elif file2[6:8] == '04':\n",
        "        shutil.move('/content/gdrive/MyDrive/Colab Notebooks/Audio_Speech_Actors/Actor_03/' + file2, '/content/gdrive/MyDrive/Colab Notebooks/Audio_Speech_Actors/sad')\n",
        "    elif file2[6:8] == '05':\n",
        "        shutil.move('/content/gdrive/MyDrive/Colab Notebooks/Audio_Speech_Actors/Actor_03/' + file2, '/content/gdrive/MyDrive/Colab Notebooks/Audio_Speech_Actors/angry')\n",
        "    elif file2[6:8] == '06':\n",
        "        shutil.move('/content/gdrive/MyDrive/Colab Notebooks/Audio_Speech_Actors/Actor_03/' + file2, '/content/gdrive/MyDrive/Colab Notebooks/Audio_Speech_Actors/fearful')\n",
        "    elif file2[6:8] == '07':\n",
        "        shutil.move('/content/gdrive/MyDrive/Colab Notebooks/Audio_Speech_Actors/Actor_03/' + file2, '/content/gdrive/MyDrive/Colab Notebooks/Audio_Speech_Actors/disgust')\n",
        "    elif file2[6:8] == '08':\n",
        "        shutil.move('/content/gdrive/MyDrive/Colab Notebooks/Audio_Speech_Actors/Actor_03/' + file2, '/content/gdrive/MyDrive/Colab Notebooks/Audio_Speech_Actors/surprise')\n",
        "\n",
        "\n",
        "dirs = os.walk('/content/gdrive/MyDrive/Colab Notebooks/Audio_Speech_Actors/Actor_04')\n",
        "for path_from_top, subdirs, files3 in dirs:\n",
        "  for file3 in files3:\n",
        "    if file3[6:8] == '01':\n",
        "        shutil.move('/content/gdrive/MyDrive/Colab Notebooks/Audio_Speech_Actors/Actor_04/' + file3, '/content/gdrive/MyDrive/Colab Notebooks/Audio_Speech_Actors/neutral')\n",
        "    elif file3[6:8] == '02':\n",
        "        shutil.move('/content/gdrive/MyDrive/Colab Notebooks/Audio_Speech_Actors/Actor_04/' + file3, '/content/gdrive/MyDrive/Colab Notebooks/Audio_Speech_Actors/calm')\n",
        "    elif file3[6:8] == '03':\n",
        "        shutil.move('/content/gdrive/MyDrive/Colab Notebooks/Audio_Speech_Actors/Actor_04/' + file3, '/content/gdrive/MyDrive/Colab Notebooks/Audio_Speech_Actors/happy')\n",
        "    elif file3[6:8] == '04':\n",
        "        shutil.move('/content/gdrive/MyDrive/Colab Notebooks/Audio_Speech_Actors/Actor_04/' + file3, '/content/gdrive/MyDrive/Colab Notebooks/Audio_Speech_Actors/sad')\n",
        "    elif file3[6:8] == '05':\n",
        "        shutil.move('/content/gdrive/MyDrive/Colab Notebooks/Audio_Speech_Actors/Actor_04/' + file3, '/content/gdrive/MyDrive/Colab Notebooks/Audio_Speech_Actors/angry')\n",
        "    elif file3[6:8] == '06':\n",
        "        shutil.move('/content/gdrive/MyDrive/Colab Notebooks/Audio_Speech_Actors/Actor_04/' + file3, '/content/gdrive/MyDrive/Colab Notebooks/Audio_Speech_Actors/fearful')\n",
        "    elif file3[6:8] == '07':\n",
        "        shutil.move('/content/gdrive/MyDrive/Colab Notebooks/Audio_Speech_Actors/Actor_04/' + file3, '/content/gdrive/MyDrive/Colab Notebooks/Audio_Speech_Actors/disgust')\n",
        "    elif file3[6:8] == '08':\n",
        "        shutil.move('/content/gdrive/MyDrive/Colab Notebooks/Audio_Speech_Actors/Actor_04/' + file3, '/content/gdrive/MyDrive/Colab Notebooks/Audio_Speech_Actors/surprise')\n",
        "\n",
        "\n",
        "dirs = os.walk('/content/gdrive/MyDrive/Colab Notebooks/Audio_Speech_Actors/Actor_05')\n",
        "for path_from_top, subdirs, files4 in dirs:\n",
        "  for file4 in files4:\n",
        "    if file4[6:8] == '01':\n",
        "        shutil.move('/content/gdrive/MyDrive/Colab Notebooks/Audio_Speech_Actors/Actor_05/' + file4, '/content/gdrive/MyDrive/Colab Notebooks/Audio_Speech_Actors/neutral')\n",
        "    elif file4[6:8] == '02':\n",
        "        shutil.move('/content/gdrive/MyDrive/Colab Notebooks/Audio_Speech_Actors/Actor_05/' + file4, '/content/gdrive/MyDrive/Colab Notebooks/Audio_Speech_Actors/calm')\n",
        "    elif file4[6:8] == '03':\n",
        "        shutil.move('/content/gdrive/MyDrive/Colab Notebooks/Audio_Speech_Actors/Actor_05/' + file4, '/content/gdrive/MyDrive/Colab Notebooks/Audio_Speech_Actors/happy')\n",
        "    elif file4[6:8] == '04':\n",
        "        shutil.move('/content/gdrive/MyDrive/Colab Notebooks/Audio_Speech_Actors/Actor_05/' + file4, '/content/gdrive/MyDrive/Colab Notebooks/Audio_Speech_Actors/sad')\n",
        "    elif file4[6:8] == '05':\n",
        "        shutil.move('/content/gdrive/MyDrive/Colab Notebooks/Audio_Speech_Actors/Actor_05/' + file4, '/content/gdrive/MyDrive/Colab Notebooks/Audio_Speech_Actors/angry')\n",
        "    elif file4[6:8] == '06':\n",
        "        shutil.move('/content/gdrive/MyDrive/Colab Notebooks/Audio_Speech_Actors/Actor_05/' + file4, '/content/gdrive/MyDrive/Colab Notebooks/Audio_Speech_Actors/fearful')\n",
        "    elif file4[6:8] == '07':\n",
        "        shutil.move('/content/gdrive/MyDrive/Colab Notebooks/Audio_Speech_Actors/Actor_05/' + file4, '/content/gdrive/MyDrive/Colab Notebooks/Audio_Speech_Actors/disgust')\n",
        "    elif file4[6:8] == '08':\n",
        "        shutil.move('/content/gdrive/MyDrive/Colab Notebooks/Audio_Speech_Actors/Actor_05/' + file4, '/content/gdrive/MyDrive/Colab Notebooks/Audio_Speech_Actors/surprise')\n",
        "\n"
      ],
      "execution_count": null,
      "outputs": [
        {
          "output_type": "stream",
          "name": "stdout",
          "text": [
            "['Actor_01', 'Actor_02', 'Actor_03', 'Actor_04', 'Actor_05', 'neutral', 'calm', 'happy', 'sad', 'angry', 'fearful', 'disgust', 'surprise']\n",
            "['Actor_01', 'Actor_02', 'Actor_03', 'Actor_04', 'Actor_05', 'neutral', 'calm', 'happy', 'sad', 'angry', 'fearful', 'disgust', 'surprise']\n"
          ]
        }
      ]
    },
    {
      "cell_type": "code",
      "metadata": {
        "id": "uxuBB-xwLJRL"
      },
      "source": [
        "#task 11/15\n",
        "\n",
        "import os\n",
        "import shutil\n",
        "\n",
        "path = \"/content/gdrive/MyDrive/Colab Notebooks/Audio_Speech_Actors\"\n",
        "\n",
        "# # directory1 = \"neutral\"\n",
        "# # directory2 = \"calm\"\n",
        "# # directory3 = \"happy\"\n",
        "# # directory4 = \"sad\"\n",
        "# # directory5 = \"angry\"\n",
        "# # directory6 = \"fearful\"\n",
        "# # directory7 = \"disgust\"\n",
        "# # directory8 = \"surprise\"\n",
        "\n",
        "# # path_1 = os.path.join(path, directory1)\n",
        "# # #os.mkdir(path_1)\n",
        "\n",
        "# # path_2 = os.path.join(path, directory2)\n",
        "# # #os.mkdir(path_2)\n",
        "\n",
        "# # path_3 = os.path.join(path, directory3)\n",
        "# # #os.mkdir(path_3)\n",
        "\n",
        "# # path_4 = os.path.join(path, directory4)\n",
        "# # #os.mkdir(path_4)\n",
        "\n",
        "# # path_5 = os.path.join(path, directory5)\n",
        "# # #os.mkdir(path_5)\n",
        "\n",
        "# # path_6 = os.path.join(path, directory6)\n",
        "# # #os.mkdir(path_6)\n",
        "\n",
        "# # path_7 = os.path.join(path, directory7)\n",
        "# # #os.mkdir(path_7)\n",
        "\n",
        "# # path_8 = os.path.join(path, directory8)\n",
        "# # #os.mkdir(path_8)\n",
        "\n",
        "# # print(os.listdir(path))\n",
        "\n",
        "# root = \"/content/gdrive/MyDrive/Colab Notebooks/Audio_Speech_Actors/\"\n",
        "# # ##\"/content/gdrive/MyDrive/Colab Notebooks/Audio_Speech_Actors/Actor_01/03-01-01-01-01-01-01.wav\"\n",
        "\n",
        "for root, dirs, files in os.walk(root):\n",
        "  for file in files:\n",
        "    file1 = os.path.join(root, file)\n",
        "    if file1[75:77] == '01':\n",
        "      shutil.copy(file1,'/content/gdrive/MyDrive/Colab Notebooks/Audio_Speech_Actors/neutral')\n",
        "    elif file1[75:77] == '02':\n",
        "      shutil.copy(file1,'/content/gdrive/MyDrive/Colab Notebooks/Audio_Speech_Actors/calm')\n",
        "    elif file1[75:77] == '03':\n",
        "      shutil.copy(file1,'/content/gdrive/MyDrive/Colab Notebooks/Audio_Speech_Actors/happy')\n",
        "    elif file1[75:77] == '04':\n",
        "      shutil.copy(file1,'/content/gdrive/MyDrive/Colab Notebooks/Audio_Speech_Actors/sad')\n",
        "    elif file1[75:77] == '05':\n",
        "      shutil.copy(file1,'/content/gdrive/MyDrive/Colab Notebooks/Audio_Speech_Actors/angry')\n",
        "    elif file1[75:77] == '06':\n",
        "      shutil.copy(file1,'/content/gdrive/MyDrive/Colab Notebooks/Audio_Speech_Actors/fearful')\n",
        "    elif file1[75:77] == '07':\n",
        "      shutil.copy(file1,'/content/gdrive/MyDrive/Colab Notebooks/Audio_Speech_Actors/disgust')\n",
        "    elif file1[75:77] == '08':\n",
        "      shutil.copy(file1,'/content/gdrive/MyDrive/Colab Notebooks/Audio_Speech_Actors/surprise')"
      ],
      "execution_count": null,
      "outputs": []
    },
    {
      "cell_type": "code",
      "metadata": {
        "colab": {
          "base_uri": "https://localhost:8080/",
          "height": 297
        },
        "id": "ZFkescZBLRQx",
        "outputId": "4d05cd91-4ecd-43e1-8072-e18a39c745fc"
      },
      "source": [
        "#task1 11/22/2021\n",
        "#matplotlib\n",
        "\n",
        "import matplotlib.pyplot as plt\n",
        "import numpy as np\n",
        "\n",
        "step = 0.5\n",
        "plt.style.use('ggplot')\n",
        "\n",
        "x = np.arange(-10.0, 0, step)\n",
        "y = x\n",
        "\n",
        "x1 = np.arange(0, 10.0, step)\n",
        "y1 = np.square(x1)\n",
        "\n",
        "fig = plt.figure()\n",
        "\n",
        "plt.plot(x, y, 'r*', x1, y1, 'r*')\n",
        "\n",
        "plt.xlabel('x')\n",
        "plt.ylabel('y')\n",
        "plt.title('The line graph')\n",
        "\n",
        "plt.tight_layout()\n",
        "\n",
        "plt.show()"
      ],
      "execution_count": null,
      "outputs": [
        {
          "output_type": "display_data",
          "data": {
            "image/png": "[encoded data removed]",
            "text/plain": [
              "<Figure size 432x288 with 1 Axes>"
            ]
          },
          "metadata": {}
        }
      ]
    },
    {
      "cell_type": "code",
      "metadata": {
        "colab": {
          "base_uri": "https://localhost:8080/",
          "height": 295
        },
        "id": "kgdSvIs3hfk3",
        "outputId": "912f6275-9958-452c-d94c-986cd34f7e1d"
      },
      "source": [
        "#task2 11/22/2021\n",
        "#matplotlib\n",
        "\n",
        "import matplotlib.pyplot as plt\n",
        "import numpy as np\n",
        "\n",
        "plt.title('Countries with more than 800 thousand cases as of 11/22/21')\n",
        "\n",
        "x = ['USA', 'Russia', 'India', 'Brazil']\n",
        "y = [9, 8, 9, 10]\n",
        "\n",
        "plt.bar(x, y, width = 0.5)\n",
        "plt.xlabel('Countries')\n",
        "plt.ylabel('Cases, h.t.')\n",
        "plt.grid(True)\n",
        "\n",
        "plt.show()\n",
        "\n"
      ],
      "execution_count": null,
      "outputs": [
        {
          "output_type": "display_data",
          "data": {
            "image/png": "[encoded data removed]",
            "text/plain": [
              "<Figure size 432x288 with 1 Axes>"
            ]
          },
          "metadata": {
            "needs_background": "light"
          }
        }
      ]
    },
    {
      "cell_type": "code",
      "metadata": {
        "colab": {
          "base_uri": "https://localhost:8080/",
          "height": 264
        },
        "id": "k4tOQ6Zkn-MG",
        "outputId": "b6206064-8960-46cf-9c50-c062e2cb943d"
      },
      "source": [
        "#task2 11/22/2021\n",
        "#matplotlib\n",
        "\n",
        "import matplotlib.pyplot as plt\n",
        "import numpy as np\n",
        "\n",
        "values = [1000, 2500, 200, 500, 650]\n",
        "values = np.unique(values)\n",
        "labels = ['Peru', 'USA', 'China', 'Russia', 'USA']\n",
        "\n",
        "def make_autopct(values):\n",
        "  def my_autopct(pct):\n",
        "      total = sum(values)\n",
        "      val = int(round(pct*total/100.0))\n",
        "      return '{p:.2f}%  ({v:d})'.format(p=pct,v=val)\n",
        "  return my_autopct\n",
        "\n",
        "plt.pie(values, labels=labels, autopct=make_autopct(values))\n",
        "##fig, ax = plt.subplots()\n",
        "plt.pie(values, labels=labels, autopct=make_autopct(values)) ## changed the color\n",
        "plt.title('The number of covid deaths in some countries on 11/21/21')\n",
        "\n",
        "plt.show()"
      ],
      "execution_count": null,
      "outputs": [
        {
          "output_type": "display_data",
          "data": {
            "image/png": "[encoded data removed]",
            "text/plain": [
              "<Figure size 432x288 with 1 Axes>"
            ]
          },
          "metadata": {}
        }
      ]
    },
    {
      "cell_type": "code",
      "metadata": {
        "colab": {
          "base_uri": "https://localhost:8080/"
        },
        "id": "PQ0Hcou8K5rd",
        "outputId": "09276455-f33e-4f26-a942-3ee1a3c712c6"
      },
      "source": [
        "#11/29/21 task#1\n",
        "\n",
        "import numpy as np\n",
        "from numpy import array\n",
        "from numpy import linalg\n",
        "\n",
        "\n",
        "def solution (a,b):\n",
        "  return linalg.solve(a,b)\n",
        "\n",
        "\n",
        "matrix_a = np.array([[3, -2],[5,4]])\n",
        "matrix_b = np.array([[6], [32]])\n",
        "\n",
        "solve = solution(matrix_a, matrix_b)\n",
        "\n",
        "print(f\"The solution to the given equasion is: {solve}\")"
      ],
      "execution_count": null,
      "outputs": [
        {
          "output_type": "stream",
          "name": "stdout",
          "text": [
            "The solution to the given equasion is: [[4.]\n",
            " [3.]]\n"
          ]
        }
      ]
    },
    {
      "cell_type": "code",
      "metadata": {
        "colab": {
          "base_uri": "https://localhost:8080/"
        },
        "id": "CBogc_tnTTko",
        "outputId": "53b76fb6-83f6-406e-cf5e-ede5295344e8"
      },
      "source": [
        "#11/29/21 task#2\n",
        "\n",
        "from scipy import integrate\n",
        "import numpy as np\n",
        "import math as math\n",
        "\n",
        "def function(x):\n",
        "  return math.sin(x)\n",
        "\n",
        "solution, err = integrate.quad(function, 0, 2)\n",
        "\n",
        "print(f\"The result of integration is: {solution}\")\n"
      ],
      "execution_count": null,
      "outputs": [
        {
          "output_type": "stream",
          "name": "stdout",
          "text": [
            "The result of integration is: 1.4161468365471424\n"
          ]
        }
      ]
    },
    {
      "cell_type": "code",
      "metadata": {
        "colab": {
          "base_uri": "https://localhost:8080/"
        },
        "id": "MC_yKUvCWVau",
        "outputId": "07f8f645-3113-44b7-d41e-a432639abfc2"
      },
      "source": [
        "#11/29/21 task#3\n",
        "\n",
        "import numpy as np\n",
        "import numpy.random as rnd\n",
        "\n",
        "def integral(n):\n",
        "  return np.sum(np.sin(rnd.uniform(0, 2, n)))*2/n\n",
        "\n",
        "print(integral(10000))"
      ],
      "execution_count": null,
      "outputs": [
        {
          "output_type": "stream",
          "name": "stdout",
          "text": [
            "1.4195806989844004\n"
          ]
        }
      ]
    },
    {
      "cell_type": "code",
      "metadata": {
        "id": "uccUd6YJZJtm",
        "colab": {
          "base_uri": "https://localhost:8080/"
        },
        "outputId": "05c64007-dbb2-4578-9e8d-8d5809cd698e"
      },
      "source": [
        "#11/29/21 task#4\n",
        "import sys\n",
        "\n",
        "array = []\n",
        "try:\n",
        "  number = int(input(\"Enter the number of elements in your array: \"))\n",
        "  if number >= 1:\n",
        "    for i in range (number):\n",
        "        array.append(int(input(\"Enter an integer for your array: \")))\n",
        "  else:\n",
        "    print(\"Invalid data. Enter positive integers only\")\n",
        "    sys.exit()\n",
        "  \n",
        "  c = int(input(\"Enter the element you want to insert: \"))\n",
        "  k = int(input(\"Enter the number's index: \"))\n",
        "\n",
        "\n",
        "  def insert(list1, var, i):\n",
        "    result = list1[:i] + [var] + list1[i:]\n",
        "    return result \n",
        "\n",
        "  if (k >= 0):\n",
        "    print(f\"The new list is: {insert(array, c, k)}\")\n",
        "  else:\n",
        "    print(\"Invalid data. Indeces must be positive integers only\")\n",
        "\n",
        "except ValueError as message:\n",
        "  print(\"Invalid data. Enter only integers\")"
      ],
      "execution_count": null,
      "outputs": [
        {
          "output_type": "stream",
          "name": "stdout",
          "text": [
            "Enter the number of elements in your array: 3\n",
            "Enter an integer for your array: 4\n",
            "Enter an integer for your array: 3\n",
            "Enter an integer for your array: 6\n",
            "Enter the element you want to insert: -80\n",
            "Enter the number's index: 1\n",
            "The new list is: [4, -80, 3, 6]\n"
          ]
        }
      ]
    },
    {
      "cell_type": "code",
      "metadata": {
        "colab": {
          "base_uri": "https://localhost:8080/"
        },
        "id": "wVZwznjtTeZ8",
        "outputId": "9664ca68-d9d0-40ed-e4ff-05be2be04847"
      },
      "source": [
        "#12/6/21 task#1\n",
        "\n",
        "def max_divider(n):\n",
        "  x = 0 ##counting the number of dividers\n",
        "  i = 1 ##going over all the dividers\n",
        "  while i <= n:\n",
        "    if n % i == 0:\n",
        "      x += 1\n",
        "      if n != i:\n",
        "        divider = i\n",
        "    i += 1\n",
        "  if x == 2:\n",
        "    print(\"This is a prime number. The greatest divider is: \", n)\n",
        "  else:\n",
        "    print(f'The greatest divider is: {divider}')\n",
        "\n",
        "n = int(input(\"Enter a number you want to check: \"))\n",
        "max_divider(n)"
      ],
      "execution_count": null,
      "outputs": [
        {
          "output_type": "stream",
          "name": "stdout",
          "text": [
            "Enter a number you want to check: 5\n",
            "This is a prime number. The greatest divider is:  5\n"
          ]
        }
      ]
    },
    {
      "cell_type": "code",
      "metadata": {
        "colab": {
          "base_uri": "https://localhost:8080/"
        },
        "id": "xSz1iS4WY6np",
        "outputId": "e3a3c817-3acc-4f70-f919-e8ac9db16483"
      },
      "source": [
        "#12/6/21 task#2\n",
        "\n",
        "def my_sum(a,b):\n",
        "  if a + b == 0:\n",
        "    return 0\n",
        "  else:\n",
        "    return 1 + my_sum(a-1, b)\n",
        " \n",
        "\n",
        "print(f'The sum of the given numbers is equal to: {my_sum(-4,4)}')\n"
      ],
      "execution_count": null,
      "outputs": [
        {
          "output_type": "stream",
          "name": "stdout",
          "text": [
            "The sum of the given numbers is equal to: 0\n"
          ]
        }
      ]
    },
    {
      "cell_type": "code",
      "metadata": {
        "colab": {
          "base_uri": "https://localhost:8080/"
        },
        "id": "Up98Epz-aAsA",
        "outputId": "e6d645d0-34db-4b2b-d7c8-3610bfc97713"
      },
      "source": [
        "#12/6/21 task#3\n",
        "\n",
        "def exponent(n,e):\n",
        "  if e == 1:\n",
        "    return n\n",
        "  else:\n",
        "    return n * exponent(n, e-1)\n",
        "\n",
        "print(f'Your exponentiated number is equal to: {exponent(5,4)}')\n"
      ],
      "execution_count": null,
      "outputs": [
        {
          "output_type": "stream",
          "name": "stdout",
          "text": [
            "Your exponentiated number is equal to: 625\n"
          ]
        }
      ]
    },
    {
      "cell_type": "code",
      "metadata": {
        "colab": {
          "base_uri": "https://localhost:8080/"
        },
        "id": "BwggUzpCcy5p",
        "outputId": "8950ed36-8316-4981-a464-f750680c82af"
      },
      "source": [
        "#12/6/21 task#5\n",
        "\n",
        "names = ['Sheehan Kenny 28', 'Connell Alec 25', 'Boulange Oceane 18', 'Vadot Jacques 60', 'Miller Melissa 24']\n",
        "print(sorted(names, key = lambda x: int(x[-2:])))\n",
        "element = str(names[1]) ##accessing the first element in a list\n",
        "min = int(element[-2:]) ##setting the age of this element as a minimum\n",
        "for name in names:\n",
        "  if int(name[-2:]) < min:\n",
        "    min = int(name[-2:])\n",
        "    needed = str(name[:])\n",
        "print(needed)"
      ],
      "execution_count": null,
      "outputs": [
        {
          "output_type": "stream",
          "name": "stdout",
          "text": [
            "['Boulange Oceane 18', 'Miller Melissa 24', 'Connell Alec 25', 'Sheehan Kenny 28', 'Vadot Jacques 60']\n",
            "Boulange Oceane 18\n"
          ]
        }
      ]
    },
    {
      "cell_type": "code",
      "source": [
        "#11/15 #task***\n",
        "\n",
        "string =input(\"Enter some letters: \")\n",
        "string = string.replace('h', 'H', string.count('h')- 1 )\n",
        "string = string.replace('H', 'h', 1)\n",
        "print(string)"
      ],
      "metadata": {
        "colab": {
          "base_uri": "https://localhost:8080/"
        },
        "id": "73IXA24tZJZT",
        "outputId": "d83a4182-8bb3-49f8-e67c-5f7f5cd6b47c"
      },
      "execution_count": null,
      "outputs": [
        {
          "output_type": "stream",
          "name": "stdout",
          "text": [
            "Enter some letters: ahahahhaha\n",
            "ahaHaHHaha\n"
          ]
        }
      ]
    },
    {
      "cell_type": "code",
      "source": [
        "#11/1 #task**\n",
        "\n",
        "numb1 = int(input(\"Enter the first number: \"))\n",
        "numb2 = int(input(\"Enter the second number: \"))\n",
        "numb3 = int(input(\"Enter the third number: \"))\n",
        "\n",
        "if numb2 < numb1:\n",
        "  (numb1, numb2) = (numb2, numb1)\n",
        "\n",
        "print(f'Your numbers in a not from-largest-to-smalest order: {numb1}, {numb2}, {numb3}')"
      ],
      "metadata": {
        "id": "UUddGs4acBEq",
        "colab": {
          "base_uri": "https://localhost:8080/"
        },
        "outputId": "6dbcc25b-79ea-456c-91b9-0537484a2aa9"
      },
      "execution_count": null,
      "outputs": [
        {
          "output_type": "stream",
          "name": "stdout",
          "text": [
            "Enter the first number: 5\n",
            "Enter the second number: 3\n",
            "Enter the third number: 2\n",
            "Your numbers in a not from-largest-to-smalest order: 3, 5, 2\n"
          ]
        }
      ]
    },
    {
      "cell_type": "code",
      "source": [
        "#11/1 #task**finding_max\n",
        "\n",
        "numb1 = int(input(\"Enter the first number: \"))\n",
        "numb2 = int(input(\"Enter the second number: \"))\n",
        "\n",
        "max_value = int(((numb1 + numb2) + abs(numb1 - numb2))/2)\n",
        "\n",
        "print(f'The maximum value of the entered numbers is equal to: {max_value}')"
      ],
      "metadata": {
        "colab": {
          "base_uri": "https://localhost:8080/"
        },
        "id": "5PqlgeHlVoPJ",
        "outputId": "0c73a3b1-814f-4f7d-ee60-9c2ed4a32afd"
      },
      "execution_count": null,
      "outputs": [
        {
          "output_type": "stream",
          "name": "stdout",
          "text": [
            "Enter the first number: -5\n",
            "Enter the second number: 6\n",
            "The maximum value of the entered numbers is equal to: 6\n"
          ]
        }
      ]
    },
    {
      "cell_type": "code",
      "source": [
        "#12/13 #task1\n",
        "\n",
        "list = []\n",
        "try:\n",
        "  numb = int(input(\"Enter the number of elements in your list: \"))\n",
        "  for i in range(numb):\n",
        "    list.append(int(input(\"Enter the element you want to add to your list: \")))\n",
        "  for i in list:\n",
        "    if i % 2 == 0:\n",
        "      print(f\"Here's the even number from the list: {i}\")\n",
        "\n",
        "except ValueError as message:\n",
        "  print(\"Enter only integers\")"
      ],
      "metadata": {
        "colab": {
          "base_uri": "https://localhost:8080/"
        },
        "id": "cHo0c20ISpZF",
        "outputId": "6c57686f-e207-4d1f-c1f4-2a9b3be8b326"
      },
      "execution_count": null,
      "outputs": [
        {
          "output_type": "stream",
          "name": "stdout",
          "text": [
            "Enter the number of elements in your list: 3\n",
            "Enter the element you want to add to your list: 4\n",
            "Enter the element you want to add to your list: 5\n",
            "Enter the element you want to add to your list: 6\n",
            "Here's the even number from the list: 4\n",
            "Here's the even number from the list: 6\n"
          ]
        }
      ]
    },
    {
      "cell_type": "code",
      "source": [
        "#12/13 #task2\n",
        "\n",
        "def changer(list):\n",
        "  temp = len(list) - 1\n",
        "  for i in range(0, temp, 2):\n",
        "    list[i], list[i+1] = list[i+1], list[i]\n",
        "  return list\n",
        "\n",
        "list =[]\n",
        "numb = int(input(\"How many elements do you want in the list? \"))\n",
        "for i in range(numb):\n",
        "  list.append(int(input(\"Enter the elements of the list: \")))\n",
        "print(f'The result is: {changer(list)}')"
      ],
      "metadata": {
        "colab": {
          "base_uri": "https://localhost:8080/"
        },
        "id": "erJDsv7wYKq7",
        "outputId": "ba2482dd-c8c5-4c17-d692-f258760d7a35"
      },
      "execution_count": null,
      "outputs": [
        {
          "output_type": "stream",
          "name": "stdout",
          "text": [
            "How many elements do you want in the list? 5\n",
            "Enter the elements of the list: 4\n",
            "Enter the elements of the list: 6\n",
            "Enter the elements of the list: 9\n",
            "Enter the elements of the list: -10\n",
            "Enter the elements of the list: 3\n",
            "The result is: [6, 4, -10, 9, 3]\n"
          ]
        }
      ]
    },
    {
      "cell_type": "code",
      "source": [
        "#12/13 #task3\n",
        "\n",
        "string = str(input(\"Enter a string: \"))\n",
        "sentence = string.split(\" \")\n",
        "temp = [str(item) for item in sentence]\n",
        "final_set = set(temp)\n",
        "count = 0\n",
        "for i in final_set:\n",
        "  count += 1\n",
        "\n",
        "print(final_set)\n",
        "print(f'The number of words in your string is equal to: {count}')"
      ],
      "metadata": {
        "colab": {
          "base_uri": "https://localhost:8080/"
        },
        "id": "NKmPDwJcbuv7",
        "outputId": "20d68a8e-f8c7-49b1-93c6-1572b7e31e15"
      },
      "execution_count": null,
      "outputs": [
        {
          "output_type": "stream",
          "name": "stdout",
          "text": [
            "Enter a string: I have a friend. My friend's name is Alec Connell. He lives in the US, Maryland. He's very nice\n",
            "{'lives', 'nice', 'Maryland.', 'friend.', 'the', \"He's\", 'have', 'He', 'is', 'Connell.', 'a', 'name', 'very', \"friend's\", 'Alec', 'in', 'I', 'My', 'US,'}\n",
            "The number of words in your string is equal to: 19\n"
          ]
        }
      ]
    },
    {
      "cell_type": "code",
      "source": [
        "#12/13 #task4\n",
        "\n",
        "numbers1 = str(input(\"Enter the first set of elements using Space: \"))\n",
        "numbers2 = str(input(\"Enter the second set of elements using Space: \"))\n",
        "\n",
        "numb1 = numbers1.split(\" \")\n",
        "numb2 = numbers2.split(\" \")\n",
        "\n",
        "set1 = [int(item1) for item1 in numb1]\n",
        "set2 = [int(item2) for item2 in numb2]\n",
        "\n",
        "set_ready1 = set(set1)\n",
        "set_ready2 = set(set2)\n",
        "\n",
        "result = set_ready1 & set_ready2\n",
        "\n",
        "print(f'The repeated elements from both sets: {sorted(result)}')"
      ],
      "metadata": {
        "colab": {
          "base_uri": "https://localhost:8080/"
        },
        "id": "dB-1fHGxdhZV",
        "outputId": "1214832f-6726-4ea8-8946-01ab28ba9863"
      },
      "execution_count": null,
      "outputs": [
        {
          "output_type": "stream",
          "name": "stdout",
          "text": [
            "Enter the first set of elements using Space: 1 2 3 4 5\n",
            "Enter the second set of elements using Space: 1 2 3\n",
            "The repeated elements from both sets: [1, 2, 3]\n"
          ]
        }
      ]
    },
    {
      "cell_type": "code",
      "source": [
        "#12/13 #task5\n",
        "import collections\n",
        "\n",
        "english_russian_dict = {'dream': 'мечта', 'goal': 'цель', 'book': 'книга', 'advantage': 'преимущество', 'entertainment': 'развлечение'}\n",
        "print(f'The original dictionary: {english_russian_dict}')\n",
        "\n",
        "count = 0\n",
        "for i in english_russian_dict.keys():\n",
        "  count += 1\n",
        "print(f'The number of words in the dictionary: {count}')\n",
        "\n",
        "dictionary_switched = {i:j for j,i in english_russian_dict.items()}\n",
        "print(f'Switched keys and values: {dictionary_switched}')\n",
        "\n",
        "result1 = dict(sorted(dictionary_switched.items(), key = lambda item: item[0]))\n",
        "\n",
        "print(f'The final result is: {result1}')"
      ],
      "metadata": {
        "colab": {
          "base_uri": "https://localhost:8080/"
        },
        "id": "g0GGp89cg-3N",
        "outputId": "4794148e-ce34-4f96-d7bb-af74c87229d4"
      },
      "execution_count": null,
      "outputs": [
        {
          "output_type": "stream",
          "name": "stdout",
          "text": [
            "The original dictionary: {'dream': 'мечта', 'goal': 'цель', 'book': 'книга', 'advantage': 'преимущество', 'entertainment': 'развлечение'}\n",
            "The number of words in the dictionary: 5\n",
            "Switched keys and values: {'мечта': 'dream', 'цель': 'goal', 'книга': 'book', 'преимущество': 'advantage', 'развлечение': 'entertainment'}\n",
            "The final result is: {'книга': 'book', 'мечта': 'dream', 'преимущество': 'advantage', 'развлечение': 'entertainment', 'цель': 'goal'}\n"
          ]
        }
      ]
    },
    {
      "cell_type": "code",
      "source": [
        "#12/13 #task6***\n",
        "\n",
        "file = open(\"/content/gdrive/MyDrive/Colab Notebooks/Words.txt\", 'r')\n",
        "dictionary = dict()\n",
        "\n",
        "for line in file:\n",
        "  line = line.strip()\n",
        "  line = line.lower()\n",
        "  words = line.split(\" \")\n",
        "  for word in words:\n",
        "    if word in dictionary:\n",
        "      dictionary[word] += 1\n",
        "    else:\n",
        "      dictionary[word] = 1\n",
        "\n",
        "for key in (dictionary.keys()):\n",
        "  print(f'{key}: {dictionary[key]}')"
      ],
      "metadata": {
        "colab": {
          "base_uri": "https://localhost:8080/"
        },
        "id": "YpSyrwVbpgQH",
        "outputId": "21fba2de-7dc0-4386-becb-53290002b869"
      },
      "execution_count": null,
      "outputs": [
        {
          "output_type": "stream",
          "name": "stdout",
          "text": [
            "i: 1\n",
            "have: 1\n",
            "an: 1\n",
            "amazing: 1\n",
            "friend: 2\n",
            "who: 1\n",
            "lives: 1\n",
            "in: 1\n",
            "the: 1\n",
            "us: 1\n",
            "maryland: 1\n",
            "and: 1\n",
            "whose: 1\n",
            "name: 1\n",
            "is: 2\n",
            "alec: 1\n",
            "connell: 1\n",
            "he: 1\n",
            "a: 1\n",
            "very: 1\n",
            "good: 1\n",
            "of: 1\n",
            "mine: 1\n"
          ]
        }
      ]
    },
    {
      "cell_type": "code",
      "source": [
        "#11/1 #task**\n",
        "\n",
        "def permutations(list, result):\n",
        "  if(len(list) == 0):\n",
        "    print(result, end = \" \")\n",
        "    return\n",
        "\n",
        "  for i in range(len(list)):\n",
        "    first = list[i]\n",
        "    second = list[0:i]\n",
        "    third = list[i+1:]\n",
        "    getting = second + third\n",
        "    permute(getting, result + first)\n",
        "  \n",
        "\n",
        "list = input(\"Enter the string: \")\n",
        "string = \"\"\n",
        "\n",
        "print(list)\n",
        "permutations(list, string)\n"
      ],
      "metadata": {
        "colab": {
          "base_uri": "https://localhost:8080/"
        },
        "id": "UIlrOA3KhYCN",
        "outputId": "9ca89a7d-8190-4faa-e7b5-b2391ac5c83f"
      },
      "execution_count": null,
      "outputs": [
        {
          "output_type": "stream",
          "name": "stdout",
          "text": [
            "Enter the string: hey\n",
            "hey\n",
            "hey hye ehy eyh yhe yeh "
          ]
        }
      ]
    },
    {
      "cell_type": "code",
      "source": [
        "import math\n",
        "result = 0\n",
        "def mutually_simple (first, second):\n",
        "  counter = 0\n",
        "  if (math.gcd(first,second) == 1):\n",
        "    print (math.gcd(first,second))\n",
        "    counter += 1\n",
        "  return counter\n",
        "\n",
        "for i in (0, 5460):\n",
        "  result += mutually_simple (i, 700)\n",
        "\n",
        "print (result)\n",
        "  "
      ],
      "metadata": {
        "colab": {
          "base_uri": "https://localhost:8080/"
        },
        "id": "WazrvaFk955K",
        "outputId": "ff04dcca-d5f7-4f8d-e7b4-2622187de258"
      },
      "execution_count": null,
      "outputs": [
        {
          "output_type": "stream",
          "name": "stdout",
          "text": [
            "0\n"
          ]
        }
      ]
    },
    {
      "cell_type": "code",
      "source": [
        "%%time\n",
        "def fib(n):  # code without using a wrapper (lru cache)\n",
        "    if n == 0:\n",
        "        return 0\n",
        "    if n == 1:\n",
        "        return 1\n",
        "    return fib(n - 1) + fib(n - 2)\n",
        "\n",
        "\n",
        "print(fib(6))"
      ],
      "metadata": {
        "colab": {
          "base_uri": "https://localhost:8080/"
        },
        "id": "RW4zDAyQ6KbX",
        "outputId": "adae9e09-def7-4357-8940-6630c12d164b"
      },
      "execution_count": null,
      "outputs": [
        {
          "output_type": "stream",
          "name": "stdout",
          "text": [
            "8\n",
            "CPU times: user 2.48 ms, sys: 0 ns, total: 2.48 ms\n",
            "Wall time: 8.42 ms\n"
          ]
        }
      ]
    },
    {
      "cell_type": "code",
      "source": [
        "#lab1 c++\n",
        "#bubble_sort\n",
        "\n",
        "import matplotlib.pyplot as plt\n",
        "import numpy as np\n",
        "\n",
        "plt.style.use('fivethirtyeight')\n",
        "plt.title(\"Bubble sort. Runtime\")\n",
        "\n",
        "size = [\"10\", \"100\", \"1000\", \"10000\", \"100000\", \"1000000\"]\n",
        "time = [\"0.0006\", \"0.0256\", \"0.866\", \"439.525\", \"27738.2\", \"5206360\"]\n",
        "\n",
        "plt.bar(size, time, color = \"#5a7d9a\", label = \"arrays\")\n",
        "\n",
        "plt.xlabel(\"Size of an array\")\n",
        "plt.ylabel(\"Runtime in ms\")\n",
        "\n",
        "plt.legend()\n",
        "plt.grid(True)\n",
        "plt.show()"
      ],
      "metadata": {
        "id": "rLbX45gc9539",
        "colab": {
          "base_uri": "https://localhost:8080/",
          "height": 325
        },
        "outputId": "ef64a33a-4119-449b-e679-d7b9fa0ed16e"
      },
      "execution_count": null,
      "outputs": [
        {
          "output_type": "display_data",
          "data": {
            "text/plain": [
              "<Figure size 432x288 with 1 Axes>"
            ],
            "image/png": "[encoded data removed]"
          },
          "metadata": {}
        }
      ]
    },
    {
      "cell_type": "code",
      "source": [
        "#lab1 c++\n",
        "#selection_sort\n",
        "\n",
        "import matplotlib.pyplot as plt\n",
        "import numpy as np\n",
        "\n",
        "plt.style.use('fivethirtyeight')\n",
        "plt.title(\"Selection sort. Runtime\")\n",
        "\n",
        "size = [\"10\", \"100\", \"1000\", \"10000\", \"100000\", \"1000000\"]\n",
        "time = [\"0.0013\", \"0.0171\", \"1.6028\", \"192.49\", \"10618.2\", \"8901347\"]\n",
        "\n",
        "plt.bar(size, time, color = \"#5a7d9a\", label = \"arrays\")\n",
        "\n",
        "plt.xlabel(\"Size of an array\")\n",
        "plt.ylabel(\"Runtime in ms\")\n",
        "\n",
        "plt.legend()\n",
        "plt.grid(True)\n",
        "plt.show()"
      ],
      "metadata": {
        "colab": {
          "base_uri": "https://localhost:8080/",
          "height": 325
        },
        "id": "OhNbZJcq-dfe",
        "outputId": "debc4377-6bf4-4735-9e5f-673fc3d23750"
      },
      "execution_count": null,
      "outputs": [
        {
          "output_type": "display_data",
          "data": {
            "text/plain": [
              "<Figure size 432x288 with 1 Axes>"
            ],
            "image/png": "[encoded data removed]"
          },
          "metadata": {}
        }
      ]
    },
    {
      "cell_type": "code",
      "source": [
        "#lab1 c++\n",
        "#insertion_sort\n",
        "\n",
        "import matplotlib.pyplot as plt\n",
        "import numpy as np\n",
        "\n",
        "plt.style.use('fivethirtyeight')\n",
        "plt.title(\"Insertion sort. Runtime\")\n",
        "\n",
        "size = [\"10\", \"100\", \"1000\", \"10000\", \"100000\", \"1000000\"]\n",
        "time = [\"0.0006\", \"0.0094\", \"0.8329\", \"148.423\", \"5839.07\", \"3854629\"]\n",
        "\n",
        "plt.bar(size, time, color = \"#5a7d9a\", label = \"arrays\")\n",
        "\n",
        "plt.xlabel(\"Size of an array\")\n",
        "plt.ylabel(\"Runtime in ms\")\n",
        "\n",
        "plt.legend()\n",
        "plt.grid(True)\n",
        "plt.show()"
      ],
      "metadata": {
        "colab": {
          "base_uri": "https://localhost:8080/",
          "height": 325
        },
        "id": "Dk-eeFBUBCvn",
        "outputId": "c0f9d1cc-266b-4c72-bbf0-7524d3ec07ce"
      },
      "execution_count": null,
      "outputs": [
        {
          "output_type": "display_data",
          "data": {
            "text/plain": [
              "<Figure size 432x288 with 1 Axes>"
            ],
            "image/png": "[encoded data removed]"
          },
          "metadata": {}
        }
      ]
    }
  ]
}